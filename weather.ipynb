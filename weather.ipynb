{
  "nbformat": 4,
  "nbformat_minor": 0,
  "metadata": {
    "colab": {
      "name": "weather.ipynb",
      "provenance": [],
      "collapsed_sections": []
    },
    "kernelspec": {
      "name": "python3",
      "display_name": "Python 3"
    },
    "language_info": {
      "name": "python"
    }
  },
  "cells": [
    {
      "cell_type": "code",
      "metadata": {
        "id": "5POTjAqzhvWw"
      },
      "source": [
        "# Nirmani Jayaprabha Pathiranage\n",
        "# nirma2015@gmail.com\n",
        "# +94712233126\n",
        "\n",
        "### PYTHON AND CYBER SECURITY BOOTCAMP SHAPEAI PROJECT ###"
      ],
      "execution_count": 27,
      "outputs": []
    },
    {
      "cell_type": "code",
      "metadata": {
        "id": "1zFvd69ljKqH"
      },
      "source": [
        "# import necessary dependencies\n",
        "\n",
        "import requests\n",
        "from datetime import datetime"
      ],
      "execution_count": 28,
      "outputs": []
    },
    {
      "cell_type": "code",
      "metadata": {
        "colab": {
          "base_uri": "https://localhost:8080/"
        },
        "id": "Glz3L1oVj8el",
        "outputId": "7e386055-eecc-42b3-ebca-af3e130ea81a"
      },
      "source": [
        "# define the api key from OpenWeatherMap API\n",
        "api_key = '7cb9de382f045f079a0ad722fa1c5c74'\n",
        "\n",
        "# input name of the location by user, where the weather details needed to be searched\n",
        "location = input(\"Enter the city name: \")"
      ],
      "execution_count": 29,
      "outputs": [
        {
          "output_type": "stream",
          "text": [
            "Enter the city name: Colombo\n"
          ],
          "name": "stdout"
        }
      ]
    },
    {
      "cell_type": "code",
      "metadata": {
        "id": "RJ81AYopkOif"
      },
      "source": [
        "# define the complete api link\n",
        "complete_api_link = \"https://api.openweathermap.org/data/2.5/weather?q=\"+location+\"&appid=\"+api_key\n",
        "\n",
        "# get the request from the above api link\n",
        "api_link = requests.get(complete_api_link)\n",
        "\n",
        "# get data obtained from the api in json format\n",
        "api_data = api_link.json()"
      ],
      "execution_count": 30,
      "outputs": []
    },
    {
      "cell_type": "code",
      "metadata": {
        "id": "fdDayEvGkXDH"
      },
      "source": [
        "#create variables to store and display data\n",
        "\n",
        "temp_city = ((api_data['main']['temp']) - 273.15)\n",
        "weather_desc = api_data['weather'][0]['description']\n",
        "hmdt = api_data['main']['humidity']\n",
        "wind_spd = api_data['wind']['speed']\n",
        "date_time = datetime.now().strftime(\"%d %b %Y | %I:%M:%S %p\")"
      ],
      "execution_count": 31,
      "outputs": []
    },
    {
      "cell_type": "code",
      "metadata": {
        "colab": {
          "base_uri": "https://localhost:8080/"
        },
        "id": "0Vq7eS22kfP3",
        "outputId": "afbcafc7-d848-40da-88e0-fb64b8d359ef"
      },
      "source": [
        "# print the output in the console\n",
        "print (\"-------------------------------------------------------------\")\n",
        "print (\"Weather Stats for - {}  || {}\".format(location.upper(), date_time))\n",
        "print (\"-------------------------------------------------------------\")\n",
        "\n",
        "print (\"Current temperature is: {:.2f} deg C\".format(temp_city))\n",
        "print (\"Current weather desc  :\",weather_desc)\n",
        "print (\"Current Humidity      :\",hmdt, '%')\n",
        "print (\"Current wind speed    :\",wind_spd ,'kmph')"
      ],
      "execution_count": 32,
      "outputs": [
        {
          "output_type": "stream",
          "text": [
            "-------------------------------------------------------------\n",
            "Weather Stats for - COLOMBO  || 22 Jun 2021 | 07:59:42 AM\n",
            "-------------------------------------------------------------\n",
            "Current temperature is: 30.97 deg C\n",
            "Current weather desc  : light rain\n",
            "Current Humidity      : 78 %\n",
            "Current wind speed    : 6.03 kmph\n"
          ],
          "name": "stdout"
        }
      ]
    },
    {
      "cell_type": "code",
      "metadata": {
        "id": "RGtE4itclpYH"
      },
      "source": [
        "### TASK ###\n",
        "\n",
        "# Log the obtained weather data to a text file called \"output.txt\"\n",
        "# Write the lines to the file\n",
        "\n",
        "with open('/content/output.txt', 'w') as writefile:\n",
        "    print (\"-------------------------------------------------------------\", file=writefile)\n",
        "    print (\"Weather Stats for - {}  || {}\".format(location.upper(), date_time), file=writefile)\n",
        "    print (\"-------------------------------------------------------------\", file=writefile)\n",
        "\n",
        "    print (\"Current temperature is: {:.2f} deg C\".format(temp_city), file=writefile)\n",
        "    print (\"Current weather desc  :\", weather_desc, file=writefile)\n",
        "    print (\"Current Humidity      :\", hmdt, '%', file=writefile)\n",
        "    print (\"Current wind speed    :\", wind_spd , 'kmph', file=writefile)"
      ],
      "execution_count": 33,
      "outputs": []
    },
    {
      "cell_type": "code",
      "metadata": {
        "colab": {
          "base_uri": "https://localhost:8080/"
        },
        "id": "m4h7i2r7rzyW",
        "outputId": "af4c386d-aaea-4cbd-e490-4e10666bc710"
      },
      "source": [
        "# Verify if the appending is successfully executed\n",
        "\n",
        "with open('/content/output.txt', 'r') as readfile:\n",
        "    print(readfile.read())"
      ],
      "execution_count": 34,
      "outputs": [
        {
          "output_type": "stream",
          "text": [
            "-------------------------------------------------------------\n",
            "Weather Stats for - COLOMBO  || 22 Jun 2021 | 07:59:42 AM\n",
            "-------------------------------------------------------------\n",
            "Current temperature is: 30.97 deg C\n",
            "Current weather desc  : light rain\n",
            "Current Humidity      : 78 %\n",
            "Current wind speed    : 6.03 kmph\n",
            "\n"
          ],
          "name": "stdout"
        }
      ]
    }
  ]
}
